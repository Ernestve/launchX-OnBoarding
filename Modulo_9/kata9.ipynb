{
 "cells": [
  {
   "cell_type": "markdown",
   "metadata": {},
   "source": [
    "### Kata 9: Uso de funciones en Python"
   ]
  },
  {
   "cell_type": "code",
   "execution_count": 7,
   "metadata": {},
   "outputs": [
    {
     "name": "stdout",
     "output_type": "stream",
     "text": [
      "Informe de combustible\n",
      "Tanque 1: 10 L\n",
      "Tanque 2: 20 L\n",
      "Tanque 3: 30 L\n",
      "Promedio: 20.0 L\n",
      "None\n",
      "Informe de combustible\n",
      "Tanque 1: 10 L\n",
      "Tanque 2: 20 L\n",
      "Tanque 3: 30 L\n",
      "Promedio: 20.0 L\n"
     ]
    }
   ],
   "source": [
    "# Ejercicio 1: Trabajar con argumentos en funciones\n",
    "\n",
    "# Función para leer 3 tanques de combustible y muestre el promedio\n",
    "def informe_combustible(tanque1, tanque2, tanque3):\n",
    "    print(\"Informe de combustible\")\n",
    "    print(\"Tanque 1:\", tanque1, \"L\")\n",
    "    print(\"Tanque 2:\", tanque2, \"L\")\n",
    "    print(\"Tanque 3:\", tanque3, \"L\")\n",
    "    promedio = (tanque1 + tanque2 + tanque3) / 3\n",
    "    print(\"Promedio:\", promedio, \"L\")\n",
    "\n",
    "\n",
    "# Llamamos a la función que genera el reporte print(funcion(tanque1, tanque2, tanque3))\n",
    "\n",
    "print(informe_combustible(10, 20, 30))\n",
    "\n",
    "# Función promedio \n",
    "\n",
    "def promedio_combustible(tanque1, tanque2, tanque3):\n",
    "    promedio = (tanque1 + tanque2 + tanque3) / 3\n",
    "    return promedio\n",
    "\n",
    "# Actualiza la función\n",
    "\n",
    "def informe_combustible(tanque1, tanque2, tanque3):\n",
    "    print(\"Informe de combustible\")\n",
    "    print(\"Tanque 1:\", tanque1, \"L\")\n",
    "    print(\"Tanque 2:\", tanque2, \"L\")\n",
    "    print(\"Tanque 3:\", tanque3, \"L\")\n",
    "    promedio = promedio_combustible(tanque1, tanque2, tanque3)\n",
    "    print(\"Promedio:\", promedio, \"L\")\n",
    "\n",
    "informe_combustible(10, 20, 30)\n"
   ]
  },
  {
   "cell_type": "code",
   "execution_count": 11,
   "metadata": {},
   "outputs": [
    {
     "name": "stdout",
     "output_type": "stream",
     "text": [
      "Informe de misión\n",
      "Hora de prelanzamiento: 10 hrs\n",
      "Tiempo de vuelo: 20 hrs\n",
      "Destino: Moon\n",
      "Combustible restante en tanque externo: 10 L\n",
      "Combustible restante en tanque interno: 20 L\n",
      "\n",
      "Informe de misión\n",
      "Destino: Moon\n",
      "Tiempo total de vuelo: 30 min\n",
      "Combustible total restante: 30 L\n",
      "\n",
      "Informe de misión\n",
      "Destino: Moon\n",
      "Tiempo total de vuelo: 30 min\n",
      "Combustible en tanque_externo: 10 L\n",
      "Combustible en tanque_interno: 20 L\n",
      "Combustible total restante: 30 L\n"
     ]
    }
   ],
   "source": [
    "# Ejercicio 2: Trabajo con argumentos de palabra clave\n",
    "\n",
    "# Función con un informe preciso de la misión. Considera hora de prelanzamiento, tiempo de vuelo, destino, tanque externo y tanque interno\n",
    "\n",
    "def informe_mision(hora_prelanzamiento, tiempo_vuelo, destino, tanque_externo, tanque_interno):\n",
    "    print(\"Informe de misión\")\n",
    "    print(f'Hora de prelanzamiento: {hora_prelanzamiento} hrs')\n",
    "    print(f'Tiempo de vuelo: {tiempo_vuelo} hrs')\n",
    "    print(f'Destino: {destino}')\n",
    "    print(f'Combustible restante en tanque externo: {tanque_externo} L')\n",
    "    print(f'Combustible restante en tanque interno: {tanque_interno} L')\n",
    "\n",
    "informe_mision(10, 20, \"Moon\", 10,20)\n",
    "\n",
    "# Escribe tu nueva función de reporte considerando minutos adicionales y tanques adicionales\n",
    "\n",
    "\n",
    "def informe_mision(destino,*minutes, **fuel_reservoirs):\n",
    "    print(\"\\nInforme de misión\")\n",
    "    print(f'Destino: {destino}')\n",
    "    print(f'Tiempo total de vuelo: {sum(minutes)} min')\n",
    "    print(f'Combustible total restante: {sum(fuel_reservoirs.values())} L')\n",
    "\n",
    "informe_mision(\"Moon\", 10, 20, tanque_externo=10, tanque_interno=20)\n",
    "\n",
    "# Escribe tu nueva función\n",
    "\n",
    "def informe_mision(destino,*minutes, **fuel_reservoirs):\n",
    "    print(\"\\nInforme de misión\")\n",
    "    print(f'Destino: {destino}')\n",
    "    print(f'Tiempo total de vuelo: {sum(minutes)} min')\n",
    "    for tank, capacity in fuel_reservoirs.items():\n",
    "        print(f'Combustible en {tank}: {capacity} L')\n",
    "    print(f'Combustible total restante: {sum(fuel_reservoirs.values())} L')\n",
    "informe_mision(\"Moon\", 10, 20, tanque_externo=10, tanque_interno=20)\n"
   ]
  }
 ],
 "metadata": {
  "interpreter": {
   "hash": "916dbcbb3f70747c44a77c7bcd40155683ae19c65e1c03b4aa3499c5328201f1"
  },
  "kernelspec": {
   "display_name": "Python 3.8.10 64-bit",
   "language": "python",
   "name": "python3"
  },
  "language_info": {
   "codemirror_mode": {
    "name": "ipython",
    "version": 3
   },
   "file_extension": ".py",
   "mimetype": "text/x-python",
   "name": "python",
   "nbconvert_exporter": "python",
   "pygments_lexer": "ipython3",
   "version": "3.8.10"
  },
  "orig_nbformat": 4
 },
 "nbformat": 4,
 "nbformat_minor": 2
}
