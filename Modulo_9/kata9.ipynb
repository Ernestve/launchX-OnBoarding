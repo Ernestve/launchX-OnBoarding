{
 "cells": [
  {
   "cell_type": "markdown",
   "metadata": {},
   "source": [
    "### Kata 9: Uso de funciones en Python"
   ]
  },
  {
   "cell_type": "code",
   "execution_count": 7,
   "metadata": {},
   "outputs": [
    {
     "name": "stdout",
     "output_type": "stream",
     "text": [
      "Informe de combustible\n",
      "Tanque 1: 10 L\n",
      "Tanque 2: 20 L\n",
      "Tanque 3: 30 L\n",
      "Promedio: 20.0 L\n",
      "None\n",
      "Informe de combustible\n",
      "Tanque 1: 10 L\n",
      "Tanque 2: 20 L\n",
      "Tanque 3: 30 L\n",
      "Promedio: 20.0 L\n"
     ]
    }
   ],
   "source": [
    "# Ejercicio 1: Trabajar con argumentos en funciones\n",
    "\n",
    "# Función para leer 3 tanques de combustible y muestre el promedio\n",
    "def informe_combustible(tanque1, tanque2, tanque3):\n",
    "    print(\"Informe de combustible\")\n",
    "    print(\"Tanque 1:\", tanque1, \"L\")\n",
    "    print(\"Tanque 2:\", tanque2, \"L\")\n",
    "    print(\"Tanque 3:\", tanque3, \"L\")\n",
    "    promedio = (tanque1 + tanque2 + tanque3) / 3\n",
    "    print(\"Promedio:\", promedio, \"L\")\n",
    "\n",
    "\n",
    "# Llamamos a la función que genera el reporte print(funcion(tanque1, tanque2, tanque3))\n",
    "\n",
    "print(informe_combustible(10, 20, 30))\n",
    "\n",
    "# Función promedio \n",
    "\n",
    "def promedio_combustible(tanque1, tanque2, tanque3):\n",
    "    promedio = (tanque1 + tanque2 + tanque3) / 3\n",
    "    return promedio\n",
    "\n",
    "# Actualiza la función\n",
    "\n",
    "def informe_combustible(tanque1, tanque2, tanque3):\n",
    "    print(\"Informe de combustible\")\n",
    "    print(\"Tanque 1:\", tanque1, \"L\")\n",
    "    print(\"Tanque 2:\", tanque2, \"L\")\n",
    "    print(\"Tanque 3:\", tanque3, \"L\")\n",
    "    promedio = promedio_combustible(tanque1, tanque2, tanque3)\n",
    "    print(\"Promedio:\", promedio, \"L\")\n",
    "\n",
    "informe_combustible(10, 20, 30)\n"
   ]
  },
  {
   "cell_type": "code",
   "execution_count": null,
   "metadata": {},
   "outputs": [],
   "source": [
    "# Ejercicio 2: Trabajo con argumentos de palabra clave\n",
    "\n",
    "# Función con un informe preciso de la misión. Considera hora de prelanzamiento, tiempo de vuelo, destino, tanque externo y tanque interno\n",
    "\n",
    "def informe_mision(hora_prelanzamiento, tiempo_vuelo, destino, tanque_externo, tanque_interno):\n",
    "    print(\"Informe de misión\")\n",
    "    print(\"Hora de prelanzamiento:\", hora_prelanzamiento)\n",
    "    print(\"Tiempo de vuelo:\", tiempo_vuelo)\n",
    "    print(\"Destino:\", destino)\n",
    "    print(\"Tanque externo:\", tanque_externo, \"L\")\n",
    "    print(\"Tanque interno:\", tanque_interno, \"L\")\n",
    "\n",
    "# Escribe tu nueva función de reporte considerando minutos adicionales y tanques adicionales\n",
    "\n",
    "\n",
    "def informe_mision(hora_prelanzamiento, tiempo_vuelo, destino, tanque_externo, tanque_interno, *minutes, **fuel_reservoirs):\n",
    "    print(\"Informe de misión\")\n",
    "    print(\"Hora de prelanzamiento:\", hora_prelanzamiento)\n",
    "    print(\"Tiempo de vuelo:\", tiempo_vuelo)\n",
    "    print(\"Destino:\", destino)\n",
    "    print(\"Tanque externo:\", tanque_externo, \"L\")\n",
    "    print(\"Tanque interno:\", tanque_interno, \"L\")\n",
    "    print(\"Minutos adicionales:\", minutes)\n",
    "    print(\"Tanques adicionales:\", fuel_reservoirs)\n",
    "\n",
    "# Escribe tu nueva función\n"
   ]
  }
 ],
 "metadata": {
  "interpreter": {
   "hash": "916dbcbb3f70747c44a77c7bcd40155683ae19c65e1c03b4aa3499c5328201f1"
  },
  "kernelspec": {
   "display_name": "Python 3.8.10 64-bit",
   "language": "python",
   "name": "python3"
  },
  "language_info": {
   "codemirror_mode": {
    "name": "ipython",
    "version": 3
   },
   "file_extension": ".py",
   "mimetype": "text/x-python",
   "name": "python",
   "nbconvert_exporter": "python",
   "pygments_lexer": "ipython3",
   "version": "3.8.10"
  },
  "orig_nbformat": 4
 },
 "nbformat": 4,
 "nbformat_minor": 2
}
