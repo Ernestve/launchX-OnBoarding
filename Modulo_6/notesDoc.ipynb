{
 "cells": [
  {
   "cell_type": "markdown",
   "metadata": {},
   "source": [
    "### Introducción a las listas"
   ]
  },
  {
   "cell_type": "markdown",
   "metadata": {},
   "source": [
    "Listas de strings:"
   ]
  },
  {
   "cell_type": "code",
   "execution_count": 9,
   "metadata": {},
   "outputs": [
    {
     "name": "stdout",
     "output_type": "stream",
     "text": [
      "Mercury\n",
      "Neptune\n",
      "8\n",
      "['Mercury', 'Venus', 'Earth', 'Mars', 'Jupiter', 'Saturn', 'Uranus', 'Neptune', 'Pluto']\n",
      "['Mercury', 'Venus', 'Earth', 'Mars', 'Jupiter', 'Saturn', 'Uranus', 'Neptune']\n",
      "2\n",
      "['Mercury', 'Earth', 'Venus', 'Earth', 'Mars', 'Jupiter', 'Saturn', 'Uranus', 'Neptune']\n",
      "['Mercury', 'Venus', 'Earth', 'Mars', 'Jupiter', 'Saturn', 'Uranus', 'Neptune']\n"
     ]
    }
   ],
   "source": [
    "#Crear una lista de planetas\n",
    "# Se puede buscar un planeta en la lista con el indice del primero a ultimo o viceversa\n",
    "# en el primer caso con el indice en numeros positivos y en el segundo con numeros negativos\n",
    "planets = ['Mercury', 'Venus', 'Earth', 'Mars', 'Jupiter', 'Saturn', 'Uranus', 'Neptune']\n",
    "\n",
    "print(planets[0])\n",
    "print(planets[-1])\n",
    "\n",
    "# len() nos devuelve el numero de elementos de una lista\n",
    "print(len(planets))\n",
    "\n",
    "#.append() agrega un elemento al final de la lista\n",
    "planets.append('Pluto')\n",
    "print(planets)\n",
    "\n",
    "#.pop() elimina el ultimo elemento de la lista\n",
    "planets.pop()\n",
    "print(planets)\n",
    "\n",
    "#index() nos devuelve el indice del elemento que le pasemos\n",
    "print(planets.index('Earth'))\n",
    "\n",
    "#.insert() inserta un elemento en un indice especifico\n",
    "planets.insert(1, 'Earth')\n",
    "print(planets)\n",
    "\n",
    "#.remove() elimina el elemento que le pasemos por parametro \n",
    "# y este solo se puede eliminar una vez\n",
    "\n",
    "planets.remove('Earth')\n",
    "print(planets)\n"
   ]
  },
  {
   "cell_type": "markdown",
   "metadata": {},
   "source": [
    "Listas de numeros:"
   ]
  },
  {
   "cell_type": "code",
   "execution_count": 26,
   "metadata": {},
   "outputs": [
    {
     "name": "stdout",
     "output_type": "stream",
     "text": [
      "0.378\n",
      "2.36\n"
     ]
    }
   ],
   "source": [
    "# Creamos una lista de numeros\n",
    "gravity_on_planets = [0.378, 0.907, 1, 0.379, 2.36, 0.916, 0.889, 1.12]\n",
    "\n",
    "#Las funciones anteriores no son tan eficientes pero tambien funcionan\n",
    "\n",
    "# min() nos devuelve el valor minimo de una lista\n",
    "print(min(gravity_on_planets))\n",
    "\n",
    "# max() nos devuelve el valor maximo de una lista\n",
    "print(max(gravity_on_planets))\n"
   ]
  },
  {
   "cell_type": "code",
   "execution_count": 28,
   "metadata": {},
   "outputs": [
    {
     "name": "stdout",
     "output_type": "stream",
     "text": [
      "[0.378, 0.907, 1, 0.379]\n",
      "[1, 0.379, 2.36, 0.916, 0.889, 1.12]\n",
      "[0.378, 0.379, 0.889, 0.907, 0.916, 1, 1.12, 2.36]\n",
      "[2.36, 1.12, 1, 0.916, 0.907, 0.889, 0.379, 0.378]\n"
     ]
    }
   ],
   "source": [
    "# Manipular datos de una lista\n",
    "\n",
    "gravity_on_planets = [0.378, 0.907, 1, 0.379, 2.36, 0.916, 0.889, 1.12]\n",
    "\n",
    "\n",
    "# slice() nos devuelve una lista con los elementos que le pasemos por parametro\n",
    "# para slice debemos considerar que el indice inicio es 0 y el indice final no considera el ultimo elemento\n",
    "# por lo tanto si queremos que se incluya el ultimo elemento debemos poner el indice final +1\n",
    "\n",
    "print(gravity_on_planets[0:4])\n",
    "\n",
    "#Si no le pasamos el indice final, se considera el resto de la lista\n",
    "\n",
    "print(gravity_on_planets[2:])\n",
    "\n",
    "# sort() ordena la lista si son numeros es ascendente si son strings es alfabetico\n",
    "# pero este metodo modifica la lista original\n",
    "gravity_on_planets.sort()\n",
    "print(gravity_on_planets)\n",
    "\n",
    "# reverse tambien puede ser un argumento de la funcion sort()\n",
    "# sort(reverse=True)\n",
    "\n",
    "gravity_on_planets.sort(reverse=True)\n",
    "print(gravity_on_planets)\n"
   ]
  }
 ],
 "metadata": {
  "interpreter": {
   "hash": "916dbcbb3f70747c44a77c7bcd40155683ae19c65e1c03b4aa3499c5328201f1"
  },
  "kernelspec": {
   "display_name": "Python 3.8.10 64-bit",
   "language": "python",
   "name": "python3"
  },
  "language_info": {
   "codemirror_mode": {
    "name": "ipython",
    "version": 3
   },
   "file_extension": ".py",
   "mimetype": "text/x-python",
   "name": "python",
   "nbconvert_exporter": "python",
   "pygments_lexer": "ipython3",
   "version": "3.8.10"
  },
  "orig_nbformat": 4
 },
 "nbformat": 4,
 "nbformat_minor": 2
}
