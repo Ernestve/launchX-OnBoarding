{
 "cells": [
  {
   "cell_type": "markdown",
   "metadata": {},
   "source": [
    "### Kata 6: Introduccion a las listas"
   ]
  },
  {
   "cell_type": "code",
   "execution_count": 3,
   "metadata": {},
   "outputs": [
    {
     "name": "stdout",
     "output_type": "stream",
     "text": [
      "['Mercurio', 'Venus', 'Tierra', 'Marte', 'Jupiter', 'Saturno', 'Urano', 'Neptuno']\n",
      "Plutón\n"
     ]
    }
   ],
   "source": [
    "# Ejercicio1: Crear y usar listas de Python\n",
    "\n",
    "# Creamos la lista planets y la mostramos\n",
    "planetas = [\"Mercurio\", \"Venus\", \"Tierra\", \"Marte\", \"Jupiter\", \"Saturno\", \"Urano\", \"Neptuno\"]\n",
    "print(planetas)\n",
    "\n",
    "# Agregamos a plutón y mostramos el último elemento\n",
    "planetas.append(\"Plutón\")\n",
    "print(planetas[-1])\n",
    "\n"
   ]
  },
  {
   "cell_type": "code",
   "execution_count": 15,
   "metadata": {},
   "outputs": [
    {
     "name": "stdout",
     "output_type": "stream",
     "text": [
      "Los planetas más cercanos al sol con respecto a Jupiter son:\n",
      "['Mercurio', 'Venus', 'Tierra', 'Marte']\n",
      "Los planetas más lejanos al sol con respecto a Jupiter son:\n",
      "['Saturno', 'Urano', 'Neptuno']\n"
     ]
    }
   ],
   "source": [
    "# Ejercicio 2: Trabajando con datos de una lista\n",
    "\n",
    "# Lista de planetas\n",
    "planetas = [\"Mercurio\", \"Venus\", \"Tierra\", \"Marte\", \"Jupiter\", \"Saturno\", \"Urano\", \"Neptuno\"]\n",
    "\n",
    "# Solicitamos el nombre de un planeta *Pista:  input()*\n",
    "\n",
    "nombre_planeta = input(\"Ingrese el nombre de un planeta: \").lower().capitalize()\n",
    "\n",
    "# Busca el planeta en la lista\n",
    "index_planeta = planetas.index(nombre_planeta)\n",
    "\n",
    "# Muestra los planetas más cercanos al sol\n",
    "print(f'Los planetas más cercanos al sol con respecto a {nombre_planeta} son:')\n",
    "print(planetas[index_planeta - index_planeta : index_planeta])\n",
    "\n",
    "# Muestra los planetas más lejanos al sol\n",
    "print(f'Los planetas más lejanos al sol con respecto a {nombre_planeta} son:')\n",
    "print(planetas[index_planeta + 1 : ])\n"
   ]
  }
 ],
 "metadata": {
  "interpreter": {
   "hash": "916dbcbb3f70747c44a77c7bcd40155683ae19c65e1c03b4aa3499c5328201f1"
  },
  "kernelspec": {
   "display_name": "Python 3.8.10 64-bit",
   "language": "python",
   "name": "python3"
  },
  "language_info": {
   "codemirror_mode": {
    "name": "ipython",
    "version": 3
   },
   "file_extension": ".py",
   "mimetype": "text/x-python",
   "name": "python",
   "nbconvert_exporter": "python",
   "pygments_lexer": "ipython3",
   "version": "3.8.10"
  },
  "orig_nbformat": 4
 },
 "nbformat": 4,
 "nbformat_minor": 2
}
