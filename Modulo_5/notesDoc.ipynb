{
 "cells": [
  {
   "cell_type": "markdown",
   "metadata": {},
   "source": [
    "#### Orden de funcionamiento (Jerarquía de Operaciones)"
   ]
  },
  {
   "cell_type": "markdown",
   "metadata": {},
   "source": [
    "Python respeta el orden de operación para las matemáticas. El orden de operación dicta que las expresiones deben evaluarse en el siguiente orden:\n",
    "\n",
    "- Paréntesis\n",
    "- Exponentes\n",
    "- Multiplicación y división\n",
    "- Suma y resta"
   ]
  },
  {
   "cell_type": "markdown",
   "metadata": {},
   "source": [
    "#### Convertir cadenas en números"
   ]
  },
  {
   "cell_type": "markdown",
   "metadata": {},
   "source": [
    "Python admite dos tipos principales de números: enteros (o int) y coma flotante (o float), con la función int() podemos convertir una cadena en un entero y con la función float() podemos convertir una cadena en un número con coma flotante. \n",
    "\n",
    "Nota: si la cadena no es un número, Python devolverá un error o si el numero no corresponde a un entero o a un número con coma flotante."
   ]
  },
  {
   "cell_type": "markdown",
   "metadata": {},
   "source": [
    "#### Redondeo de números"
   ]
  },
  {
   "cell_type": "code",
   "execution_count": 1,
   "metadata": {},
   "outputs": [
    {
     "name": "stdout",
     "output_type": "stream",
     "text": [
      "14.56\n",
      "17 minutes and 22 seconds\n"
     ]
    }
   ],
   "source": [
    "# La funcion de round() es redondear un numero a una cantidad de decimales especifica\n",
    "# round(numero, cantidad de decimales)\n",
    "\n",
    "print(round(14.5636363, 2))\n",
    "\n",
    "# En una division esto tambien se puede hacer con doble division o divison de piso (//)\n",
    "# Este es un ejemplo de division de piso de segundos a minutos\n",
    "\n",
    "seconds = 1042\n",
    "minutes = seconds // 60\n",
    "seconds = seconds % 60\n",
    "print(f'{minutes} minutes and {seconds} seconds')\n"
   ]
  },
  {
   "cell_type": "code",
   "execution_count": 9,
   "metadata": {},
   "outputs": [
    {
     "name": "stdout",
     "output_type": "stream",
     "text": [
      "23\n",
      "23\n"
     ]
    }
   ],
   "source": [
    "# Numeros absolutos\n",
    "# Esta funcion nos devuelve el valor absoluto de un numero\n",
    "# Esto significa que si el numero es negativo, devuelve el valor positivo\n",
    "\n",
    "print(abs(39 - 16))\n",
    "print(abs(16 - 39))"
   ]
  },
  {
   "cell_type": "markdown",
   "metadata": {},
   "source": [
    "#### Biblioteca Math"
   ]
  },
  {
   "cell_type": "code",
   "execution_count": 10,
   "metadata": {},
   "outputs": [
    {
     "name": "stdout",
     "output_type": "stream",
     "text": [
      "13\n",
      "12\n"
     ]
    }
   ],
   "source": [
    "# math te permite realizar el redondeo con floor y ceil, por ejemplo:\n",
    "\n",
    "from math import ceil, floor\n",
    "\n",
    "# Redondeo hacia arriba\n",
    "round_up = ceil(12.5)\n",
    "print(round_up)\n",
    "\n",
    "#Redondeo hacia abajo\n",
    "round_down = floor(12.5)\n",
    "print(round_down)\n"
   ]
  }
 ],
 "metadata": {
  "interpreter": {
   "hash": "916dbcbb3f70747c44a77c7bcd40155683ae19c65e1c03b4aa3499c5328201f1"
  },
  "kernelspec": {
   "display_name": "Python 3.8.10 64-bit",
   "language": "python",
   "name": "python3"
  },
  "language_info": {
   "codemirror_mode": {
    "name": "ipython",
    "version": 3
   },
   "file_extension": ".py",
   "mimetype": "text/x-python",
   "name": "python",
   "nbconvert_exporter": "python",
   "pygments_lexer": "ipython3",
   "version": "3.8.10"
  },
  "orig_nbformat": 4
 },
 "nbformat": 4,
 "nbformat_minor": 2
}
