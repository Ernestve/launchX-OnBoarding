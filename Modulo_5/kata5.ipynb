{
 "cells": [
  {
   "cell_type": "markdown",
   "metadata": {},
   "source": [
    "### Kata 5: Operadores aritméticos en Python"
   ]
  },
  {
   "cell_type": "code",
   "execution_count": 14,
   "metadata": {},
   "outputs": [
    {
     "name": "stdout",
     "output_type": "stream",
     "text": [
      "La distancia entre la tierra y jupiter es de 628949.33 km\n",
      "y en millas esta distancia es de 390810.87 mi\n"
     ]
    }
   ],
   "source": [
    "# Ejercicio1 - Utilizar operadores aritméticos\n",
    "\n",
    "distancia_tierra_sol= 149597.870 # km\n",
    "distancia_jupiter_sol= 778547.200 # km\n",
    "km_to_miles= 0.621371\n",
    "\n",
    "# 1. Calcular la distancia entre los planetas\n",
    "\n",
    "distancia_tierra_jupiter= distancia_tierra_sol - distancia_jupiter_sol\n",
    "distancia = round(abs(distancia_tierra_jupiter), 2)\n",
    "\n",
    "print(f'La distancia entre la tierra y jupiter es de {distancia} km')\n",
    "print(f'y en millas esta distancia es de {round(distancia*km_to_miles, 2)} mi')"
   ]
  },
  {
   "cell_type": "code",
   "execution_count": 18,
   "metadata": {},
   "outputs": [
    {
     "name": "stdout",
     "output_type": "stream",
     "text": [
      "La distancia entre venus y tueue es de 8829085853858586 km\n",
      "y en millas esta distancia es de 5486137906097964.0 mi\n"
     ]
    }
   ],
   "source": [
    "# Ejercicio2 - Convierte cadenas en números y usa valores absolutos\n",
    "\n",
    "# Usando input, agrega el código para leer la distancia del sol para cada planeta, considerando 2 planetas.\n",
    "# Almacenar las entradas del usuario\n",
    "# Convierte las cadenas de ambos planetas a números enteros\n",
    "\n",
    "nombre_planeta1 = str(input('Ingrese el nombre del primer planeta: ').lower()) \n",
    "planeta_1 = int(input('Ingrese la distancia del sol para el planeta 1: '))\n",
    "nombre_planeta2 = str(input('Ingrese el nombre del segundo planeta: ').lower())\n",
    "planeta_2 = int(input('Ingrese la distancia del sol para el planeta 2: '))\n",
    "\n",
    "km_to_miles= 0.621371\n",
    "\n",
    "# Realizar el cálculo y determinar el valor absoluto\n",
    "distancia = abs(planeta_1 - planeta_2)\n",
    "\n",
    "print(f'La distancia entre {nombre_planeta1} y {nombre_planeta2} es de {distancia} km')\n",
    "\n",
    "# Convertir de KM a Millas\n",
    "print(f'y en millas esta distancia es de {round(distancia*km_to_miles, 2)} mi')\n",
    "\n",
    "\n",
    "\n"
   ]
  }
 ],
 "metadata": {
  "interpreter": {
   "hash": "916dbcbb3f70747c44a77c7bcd40155683ae19c65e1c03b4aa3499c5328201f1"
  },
  "kernelspec": {
   "display_name": "Python 3.8.10 64-bit",
   "language": "python",
   "name": "python3"
  },
  "language_info": {
   "codemirror_mode": {
    "name": "ipython",
    "version": 3
   },
   "file_extension": ".py",
   "mimetype": "text/x-python",
   "name": "python",
   "nbconvert_exporter": "python",
   "pygments_lexer": "ipython3",
   "version": "3.8.10"
  },
  "orig_nbformat": 4
 },
 "nbformat": 4,
 "nbformat_minor": 2
}
