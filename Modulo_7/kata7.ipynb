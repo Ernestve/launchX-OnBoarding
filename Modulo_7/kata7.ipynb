{
 "cells": [
  {
   "cell_type": "markdown",
   "metadata": {},
   "source": [
    "### Kata 7: Estructuras de control"
   ]
  },
  {
   "cell_type": "code",
   "execution_count": 3,
   "metadata": {},
   "outputs": [
    {
     "name": "stdout",
     "output_type": "stream",
     "text": [
      "Se añadio venus a la lista de planetas\n",
      "Se añadio tierra a la lista de planetas\n",
      "La lista de planetas es: ['venus', 'tierra']\n"
     ]
    }
   ],
   "source": [
    "# Ejercicio 1: Uso de ciclos while en Python\n",
    "\n",
    "# Declara dos variables\n",
    "new_planet=\"\"\n",
    "planets=[]\n",
    "\n",
    "# Escribe el ciclo while solicitado\n",
    "while new_planet != \"done\":\n",
    "    if new_planet:\n",
    "        planets.append(new_planet)\n",
    "        print(\"Se añadio {} a la lista de planetas\".format(new_planet))\n",
    "    new_planet=input(\"Introduce el nombre de un planeta o 'done' para terminar: \").lower()\n",
    "print(\"La lista de planetas es: {}\".format(planets))\n"
   ]
  },
  {
   "cell_type": "code",
   "execution_count": 5,
   "metadata": {},
   "outputs": [
    {
     "name": "stdout",
     "output_type": "stream",
     "text": [
      "appp\n",
      "aaaa\n",
      "aaa\n"
     ]
    }
   ],
   "source": [
    "# Ejercicio 2: Creación de un ciclo \"for\"\n",
    "\n",
    "new_planet=\"\"\n",
    "planets=[]\n",
    "\n",
    "while new_planet != \"done\":\n",
    "    if new_planet:\n",
    "        planets.append(new_planet)\n",
    "    new_planet=input(\"Introduce el nombre de un planeta o 'done' para terminar: \").lower()\n",
    "\n",
    "# Escribe tu ciclo for para iterar en una lista de planetas\n",
    "for planet in planets:\n",
    "    print(planet)"
   ]
  }
 ],
 "metadata": {
  "interpreter": {
   "hash": "916dbcbb3f70747c44a77c7bcd40155683ae19c65e1c03b4aa3499c5328201f1"
  },
  "kernelspec": {
   "display_name": "Python 3.8.10 64-bit",
   "language": "python",
   "name": "python3"
  },
  "language_info": {
   "codemirror_mode": {
    "name": "ipython",
    "version": 3
   },
   "file_extension": ".py",
   "mimetype": "text/x-python",
   "name": "python",
   "nbconvert_exporter": "python",
   "pygments_lexer": "ipython3",
   "version": "3.8.10"
  },
  "orig_nbformat": 4
 },
 "nbformat": 4,
 "nbformat_minor": 2
}
