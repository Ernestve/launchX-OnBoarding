{
 "cells": [
  {
   "cell_type": "markdown",
   "metadata": {},
   "source": [
    "### Diccionarios"
   ]
  },
  {
   "cell_type": "code",
   "execution_count": 22,
   "metadata": {},
   "outputs": [
    {
     "name": "stdout",
     "output_type": "stream",
     "text": [
      "Earth\n",
      "Earth\n",
      "{'name': 'Jupiter', 'moons': 49}\n",
      "{'name': 'Jupiter', 'moons': 79}\n",
      "{'name': 'Jupiter', 'moons': 79, 'orbital period': 4333}\n",
      "{'name': 'Jupiter', 'moons': 79}\n",
      "{'name': 'Jupiter', 'moons': 79, 'diameter (km)': {'polar': 133709, 'equatorial': 142984}}\n",
      "Jupiter polar diameter: 133709\n"
     ]
    }
   ],
   "source": [
    "# Un diccionario es una colección de datos que se pueden acceder por una clave.\n",
    "# como un objeto.\n",
    "\n",
    "planet = {\n",
    "    'name': 'Earth',\n",
    "    'moons': 1\n",
    "}\n",
    "\n",
    "# get() devuelve el valor de una clave.\n",
    "print(planet.get('name'))\n",
    "\n",
    "# Tambien podemos usar el operador de acceso [].\n",
    "print(planet['name'])\n",
    "\n",
    "# update() actualiza un diccionario. Si la clave no existe, se crea. y este metodo \n",
    "# puede crear varios valores en comparacion que con [] y asignar un valor a una clave.\n",
    "planet.update({'name': 'Jupiter', 'moons': 49})\n",
    "print(planet)\n",
    "\n",
    "planet['moons'] = 79\n",
    "print(planet)\n",
    "\n",
    "# Adicion y eliminacion de claves.\n",
    "planet['orbital period'] = 4333\n",
    "print(planet)\n",
    "\n",
    "# Eliminacion de una clave con pop().\n",
    "planet.pop('orbital period')\n",
    "print(planet)\n",
    "\n",
    "# Añadimos los datos\n",
    "planet['diameter (km)'] = {\n",
    "    'polar': 133709,\n",
    "    'equatorial': 142984\n",
    "}\n",
    "print(planet)\n",
    "\n",
    "print(f\"{planet['name']} polar diameter: {planet['diameter (km)']['polar']}\")\n",
    "\n",
    "# Salida: Jupiter polar diameter: 133709"
   ]
  },
  {
   "cell_type": "code",
   "execution_count": 24,
   "metadata": {},
   "outputs": [
    {
     "name": "stdout",
     "output_type": "stream",
     "text": [
      "dict_keys(['october', 'november', 'december'])\n",
      "october: 3.5 cm\n",
      "november: 4.2 cm\n",
      "december: 2.1 cm\n"
     ]
    }
   ],
   "source": [
    "# Recuperación de todas las claves y valores\n",
    "\n",
    "rainfall = {\n",
    "    'october': 3.5,\n",
    "    'november': 4.2,\n",
    "    'december': 2.1\n",
    "}\n",
    "\n",
    "# keys() devuelve una lista con todas las claves.\n",
    "print(rainfall.keys())\n",
    "\n",
    "for key in rainfall.keys():\n",
    "    print(f'{key}: {rainfall[key]} cm')\n",
    "\n",
    "# Utilizamos in para verificar si una clave existe.\n",
    "# El valor de december: 2.1cm\n",
    "\n",
    "# Si, 'december' existe en rainfall\n",
    "if 'december' in rainfall:\n",
    "    # rainfall [en la posición december] es igual a\n",
    "    # rainfall [en la posición december] + 1 (2.1+1)\n",
    "    rainfall['december'] = rainfall['december'] + 1\n",
    "\n",
    "# Si no:\n",
    "else:\n",
    "    # rainfall [en la posición december] es igual a 1\n",
    "    rainfall['december'] = 1\n",
    "\n",
    "# Como december si existe, el valor será 3.1"
   ]
  },
  {
   "cell_type": "code",
   "execution_count": 25,
   "metadata": {},
   "outputs": [
    {
     "name": "stdout",
     "output_type": "stream",
     "text": [
      "dict_values([3.5, 4.2, 2.1])\n",
      "There was 9.8cm in the last quarter\n"
     ]
    }
   ],
   "source": [
    "# Recuperar todos los valores de un diccionario\n",
    "\n",
    "rainfall = {\n",
    "    'october': 3.5,\n",
    "    'november': 4.2,\n",
    "    'december': 2.1\n",
    "}\n",
    "\n",
    "# values() devuelve una lista con todos los valores.\n",
    "print(rainfall.values())\n",
    "\n",
    "#Total de precipitaciones 0\n",
    "total_rainfall = 0\n",
    "\n",
    "# Para cada valor en los valores de rainfall\n",
    "for value in rainfall.values():\n",
    "    \n",
    "    # El total de las precipitaciones será igual a ese mismo + el valor que se está iterando\n",
    "\n",
    "    total_rainfall = total_rainfall + value\n",
    "\n",
    "# Muestra 'Hay un total de precipitaciones (el valor total) en centímetros en el último cuarto (haciendo referencia al cuarto del año)\n",
    "\n",
    "print(f'There was {total_rainfall}cm in the last quarter')\n",
    "\n",
    "# Salida:\n",
    "# There was 10.8cm in the last quarter\n"
   ]
  }
 ],
 "metadata": {
  "interpreter": {
   "hash": "916dbcbb3f70747c44a77c7bcd40155683ae19c65e1c03b4aa3499c5328201f1"
  },
  "kernelspec": {
   "display_name": "Python 3.8.10 64-bit",
   "language": "python",
   "name": "python3"
  },
  "language_info": {
   "codemirror_mode": {
    "name": "ipython",
    "version": 3
   },
   "file_extension": ".py",
   "mimetype": "text/x-python",
   "name": "python",
   "nbconvert_exporter": "python",
   "pygments_lexer": "ipython3",
   "version": "3.8.10"
  },
  "orig_nbformat": 4
 },
 "nbformat": 4,
 "nbformat_minor": 2
}
