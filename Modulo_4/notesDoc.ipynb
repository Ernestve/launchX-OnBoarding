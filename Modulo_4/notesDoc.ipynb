{
 "cells": [
  {
   "cell_type": "markdown",
   "metadata": {},
   "source": [
    "### Strings en python"
   ]
  },
  {
   "cell_type": "markdown",
   "metadata": {},
   "source": [
    "#### Comillas\n",
    "\n",
    "Se puede usar comillas simples o dobles para definir cadenas de texto, asi como comillas triple en caso de que la cadena de texto contenga ya comillas simples o dobles\n"
   ]
  },
  {
   "cell_type": "markdown",
   "metadata": {},
   "source": [
    "#### Texo multilinea\n",
    "\n",
    "Este se puede generar con las comillas triples o el uso de \\n"
   ]
  },
  {
   "cell_type": "code",
   "execution_count": 3,
   "metadata": {},
   "outputs": [
    {
     "name": "stdout",
     "output_type": "stream",
     "text": [
      "Facts about the Moon:\n",
      " There is no atmosphere.\n",
      " There is no sound.\n",
      "Facts about the Moon:\n",
      "There is no atmosphere.\n",
      "There is no sound.\n"
     ]
    }
   ],
   "source": [
    "multiline = \"Facts about the Moon:\\n There is no atmosphere.\\n There is no sound.\"\n",
    "print(multiline)\n",
    "\n",
    "multiline_c='''Facts about the Moon:\n",
    "There is no atmosphere.\n",
    "There is no sound.'''\n",
    "print(multiline_c)"
   ]
  },
  {
   "cell_type": "markdown",
   "metadata": {},
   "source": [
    "#### Metodos de cadenas"
   ]
  },
  {
   "cell_type": "code",
   "execution_count": 8,
   "metadata": {},
   "outputs": [
    {
     "name": "stdout",
     "output_type": "stream",
     "text": [
      "Hello World\n",
      "HELLO WORLD\n",
      "hello world\n",
      "hello world\n",
      "Hello world\n"
     ]
    }
   ],
   "source": [
    "# .title() - Capitalize first letter of each word\n",
    "print(\"hello world\".title())\n",
    "\n",
    "# .upper() - Capitalize all letters\n",
    "print(\"hello world\".upper())\n",
    "\n",
    "# .lower() - Lowercase all letters\n",
    "print(\"HELLO WORLD\".lower())\n",
    "\n",
    "# .swapcase() - Swap case\n",
    "print(\"HELLO WORLD\".swapcase())\n",
    "\n",
    "# .capitalize() - Capitalize first letter\n",
    "print(\"hello world\".capitalize())\n"
   ]
  },
  {
   "cell_type": "markdown",
   "metadata": {},
   "source": [
    "##### Dividir y unir cadenas"
   ]
  },
  {
   "cell_type": "code",
   "execution_count": 17,
   "metadata": {},
   "outputs": [
    {
     "name": "stdout",
     "output_type": "stream",
     "text": [
      "['hello', 'world', 'everybody']\n",
      "['hello world', 'everybody']\n",
      "hello world everybody\n"
     ]
    }
   ],
   "source": [
    "# .split() - Split string into a list\n",
    "print(\"hello world everybody\".split())\n",
    "\n",
    "# .split('\\n') - Split string into a list with new line\n",
    "print(\"\"\"hello world\n",
    "everybody\"\"\".split('\\n'))\n",
    "\n",
    "#.join() - Join list into a string\n",
    "print(\" \".join([\"hello\", \"world\", \"everybody\"]))"
   ]
  },
  {
   "cell_type": "markdown",
   "metadata": {},
   "source": [
    "#### Metodos utiles para buscar y reemplazar cadenas"
   ]
  },
  {
   "cell_type": "code",
   "execution_count": 21,
   "metadata": {},
   "outputs": [
    {
     "name": "stdout",
     "output_type": "stream",
     "text": [
      "12\n",
      "1\n",
      "hello world world\n",
      "True\n",
      "False\n",
      "True\n",
      "True\n"
     ]
    }
   ],
   "source": [
    "# .find() - Find first occurrence of substring\n",
    "print(\"hello world everybody\".find(\"everybody\"))\n",
    "\n",
    "# .count() - Count occurrences of substring\n",
    "print(\"hello world everybody\".count(\"everybody\"))\n",
    "\n",
    "# .replace() - Replace all occurrences of substring\n",
    "print(\"hello world everybody\".replace(\"everybody\", \"world\"))\n",
    "\n",
    "# .isNumeric() - Check if string is numeric this does not work with negative numbers\n",
    "print(\"123\".isnumeric())\n",
    "print(\"-123\".isnumeric())\n",
    "\n",
    "# .startswith() - Check if string starts with substring, this method is useful for checking negative numbers\n",
    "print(\"hello world everybody\".startswith(\"hello\"))\n",
    "print(\"-123\".startswith(\"-\"))\n",
    "\n",
    "# .endswith() - Check if string ends with substring\n",
    "print(\"hello world everybody\".endswith(\"everybody\"))\n"
   ]
  },
  {
   "cell_type": "markdown",
   "metadata": {},
   "source": [
    "#### Formato de cadenas"
   ]
  },
  {
   "cell_type": "code",
   "execution_count": 29,
   "metadata": {},
   "outputs": [
    {
     "name": "stdout",
     "output_type": "stream",
     "text": [
      "On the Moon, you would weigh about 1/6 of your weight on Earth\n",
      "Both sides of the Moon get the same amount of sunlight,\n",
      "    but only one side is seen from Earth because\n",
      "    the Moon rotates around its own axis when it orbits Earth.\n",
      "On the Moon, you would weigh about 1/6 of your weight on Earth\n",
      "Both sides of the Earth get the same amount of sunlight,\n",
      "but only one side is seen from Earth because \n",
      "the Earth rotates around its own axis when it orbits Earth.\n",
      "On the Moon, you would weigh about 1/6 of your weight on Earth\n"
     ]
    }
   ],
   "source": [
    "# format %s - String format\n",
    "mass_percentage = '1/6'\n",
    "print('On the Moon, you would weigh about %s of your weight on Earth' % mass_percentage)\n",
    "\n",
    "# this method can be used to format an array of strings\n",
    "print(\"\"\"Both sides of the %s get the same amount of sunlight,\n",
    "    but only one side is seen from %s because\n",
    "    the %s rotates around its own axis when it orbits %s.\"\"\" % ('Moon', 'Earth', 'Moon', 'Earth'))\n",
    "\n",
    "# format() - Format string\n",
    "print('On the Moon, you would weigh about {} of your weight on Earth'.format(mass_percentage))\n",
    "\n",
    "# this method can be used to format an array of strings and you can use the index of the array to specify the position of the string\n",
    "print(\"\"\"Both sides of the {1} get the same amount of sunlight,\n",
    "but only one side is seen from {1} because \n",
    "the {1} rotates around its own axis when it orbits {3}.\"\"\".format('Moon', 'Earth', 'Moon', 'Earth'))"
   ]
  },
  {
   "cell_type": "code",
   "execution_count": 32,
   "metadata": {},
   "outputs": [
    {
     "name": "stdout",
     "output_type": "stream",
     "text": [
      "On the Moon, you would weigh about 1/6 of your weight on Earth\n",
      "This are some Interesting Facts About The Moon\n"
     ]
    }
   ],
   "source": [
    "# f-strings - Format string\n",
    "\n",
    "print(f'On the Moon, you would weigh about {mass_percentage} of your weight on Earth')\n",
    "\n",
    "subject = 'interesting facts about the moon'\n",
    "print (f'This are some {subject.title()}')\n",
    "\n"
   ]
  }
 ],
 "metadata": {
  "interpreter": {
   "hash": "916dbcbb3f70747c44a77c7bcd40155683ae19c65e1c03b4aa3499c5328201f1"
  },
  "kernelspec": {
   "display_name": "Python 3.8.10 64-bit",
   "language": "python",
   "name": "python3"
  },
  "language_info": {
   "codemirror_mode": {
    "name": "ipython",
    "version": 3
   },
   "file_extension": ".py",
   "mimetype": "text/x-python",
   "name": "python",
   "nbconvert_exporter": "python",
   "pygments_lexer": "ipython3",
   "version": "3.8.10"
  },
  "orig_nbformat": 4
 },
 "nbformat": 4,
 "nbformat_minor": 2
}
