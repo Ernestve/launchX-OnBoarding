{
 "cells": [
  {
   "cell_type": "markdown",
   "metadata": {},
   "source": [
    "### Kata 4: Transformar cadenas"
   ]
  },
  {
   "cell_type": "code",
   "execution_count": 49,
   "metadata": {},
   "outputs": [
    {
     "name": "stdout",
     "output_type": "stream",
     "text": [
      " \n",
      "On average, the Moon moves 4cm away from the Earth every year\n",
      " The highest daylight temperature of the Moon is 127 C\n",
      " \n",
      "On average, the Moon moves 4cm away from the Earth every year\n",
      " The highest daylight temperature of the Moon is 127 Celsius\n"
     ]
    }
   ],
   "source": [
    "# Ejecicio 1: Transformar cadenas\n",
    "\n",
    "text = \"\"\"Interesting facts about the Moon. The Moon is Earth's only satellite. There are several interesting facts about the Moon and how it affects life here on Earth. \n",
    "On average, the Moon moves 4cm away from the Earth every year. This yearly drift is not significant enough to cause immediate effects on Earth. The highest daylight temperature of the Moon is 127 C.\"\"\"\n",
    "\n",
    "# Primero, divide el texto en cada oración para trabajar con su contenido:\n",
    "\n",
    "text_p=text.split(\".\")\n",
    "\n",
    "# Ahora, define algunas palabras clave para búsqueda que te ayudarán a determinar si una oración contiene un hecho.\n",
    "# Define las palabras pista: average, temperature y distance suenan bien\n",
    "\n",
    "pistas = [\"average\", \"temperature\", \"distance\"]\n",
    "\n",
    "#Crea un bucle para imprimir solo datos sobre la Luna que estén relacionados con las palabras clave definidas anteriormente:\n",
    "\n",
    "for item in text_p:\n",
    "    for pista in pistas:\n",
    "        if (pista in item):\n",
    "            print(item)\n",
    "                              \n",
    "# Finalmente, actualiza el bucle(ciclo) para cambiar C a Celsius:\n",
    "\n",
    "for item in text_p:\n",
    "    for pista in pistas:\n",
    "        if (pista in item):\n",
    "            if (\"C\" in item):\n",
    "                item = item.replace(\"C\", \"Celsius\")\n",
    "                print(item)\n",
    "            else:\n",
    "                print(item)"
   ]
  },
  {
   "cell_type": "code",
   "execution_count": 69,
   "metadata": {},
   "outputs": [
    {
     "name": "stdout",
     "output_type": "stream",
     "text": [
      "Gravity Facts about Moon \n",
      "Planet Name: Earth\n",
      "Gravity on Moon: 1.6199999999999999 m/s^2 \n",
      "\n",
      "Gravity Facts about Moon \n",
      "Planet Name: Earth\n",
      "Gravity on Moon: 1.6199999999999999 m/s^2 \n",
      "\n"
     ]
    }
   ],
   "source": [
    "# Ejecicio 2: Formateando cadenas\n",
    "\n",
    "# Datos con los que vas a trabajar\n",
    "name = \"Moon\"\n",
    "gravity = 0.00162 # in kms\n",
    "planet = \"Earth\"\n",
    "\n",
    "# Primero, crea un título para el texto.\n",
    "title = f'Gravity Facts about {name} \\n'\n",
    "\n",
    "# Ahora crea una plantilla de cadena multilínea para contener el resto de la información. \n",
    "# En lugar de usar kilómetros, debes convertir la distancia a metros multiplicando por 1,000.\n",
    "template = f'Planet Name: {planet}\\nGravity on {name}: {gravity * 1000} m/s^2 \\n'\n",
    "\n",
    "# Finalmente, usa ambas variables para unir el título y los hechos.\n",
    "\n",
    "planet_facts = title + template\n",
    "\n",
    "print(planet_facts)\n",
    "\n",
    "# Ahora usa información de una luna diferente para ver si la plantilla todavía funciona.\n",
    "planet = 'Marte '\n",
    "gravity  = 0.00143\n",
    "name = 'Ganímedes'\n",
    "\n",
    "print(planet_facts)"
   ]
  },
  {
   "cell_type": "code",
   "execution_count": 86,
   "metadata": {},
   "outputs": [
    {
     "name": "stdout",
     "output_type": "stream",
     "text": [
      "Gravity Facts about Moon \n",
      "Planet Name: Earth\n",
      "Gravity on Moon: 1.6199999999999999 m/s^2 \n",
      "\n",
      "Gravity Facts about Ganímedes \n",
      "Planet Name: Marte\n",
      "Gravity on Ganímedes: 1.4300000000000002 m/s^2 \n",
      "\n"
     ]
    }
   ],
   "source": [
    "# Nueva plantilla utilizando .format()\n",
    "\n",
    "name = \"Moon\"\n",
    "gravity = 0.00162 # in kms\n",
    "planet = \"Earth\"\n",
    "\n",
    "title = \"Gravity Facts about {0} \\n\"\n",
    "template = \"Planet Name: {2}\\nGravity on {0}: {1} m/s^2 \\n\"\n",
    "\n",
    "planet_facts = title + template\n",
    "\n",
    "print(planet_facts.format(name, gravity*1000, planet))\n",
    "\n",
    "name = 'Ganímedes'\n",
    "gravity  = 0.00143\n",
    "planet = 'Marte'\n",
    "\n",
    "print(planet_facts.format(name, gravity*1000, planet))\n"
   ]
  }
 ],
 "metadata": {
  "interpreter": {
   "hash": "916dbcbb3f70747c44a77c7bcd40155683ae19c65e1c03b4aa3499c5328201f1"
  },
  "kernelspec": {
   "display_name": "Python 3.8.10 64-bit",
   "language": "python",
   "name": "python3"
  },
  "language_info": {
   "codemirror_mode": {
    "name": "ipython",
    "version": 3
   },
   "file_extension": ".py",
   "mimetype": "text/x-python",
   "name": "python",
   "nbconvert_exporter": "python",
   "pygments_lexer": "ipython3",
   "version": "3.8.10"
  },
  "orig_nbformat": 4
 },
 "nbformat": 4,
 "nbformat_minor": 2
}
